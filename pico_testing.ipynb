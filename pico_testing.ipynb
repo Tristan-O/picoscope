{
 "cells": [
  {
   "cell_type": "markdown",
   "metadata": {},
   "source": [
    "# Testing the Picoscope\n",
    "\n",
    "See readme."
   ]
  },
  {
   "cell_type": "markdown",
   "metadata": {},
   "source": [
    "## Imports and Connecting"
   ]
  },
  {
   "cell_type": "code",
   "execution_count": null,
   "metadata": {},
   "outputs": [],
   "source": [
    "import matplotlib.pyplot as plt\n",
    "import numpy as np\n",
    "import time"
   ]
  },
  {
   "cell_type": "code",
   "execution_count": null,
   "metadata": {},
   "outputs": [],
   "source": [
    "import ctypes\n",
    "from picosdk.ps4000 import ps4000 as ps\n",
    "from picosdk.functions import adc2mV\n",
    "\n",
    "chandle = ctypes.c_int16()\n",
    "\n",
    "# Open PicoScope 4000 Series device\n",
    "# Returns handle to chandle for use in future API functions\n",
    "assert 0 == ps.ps4000OpenUnit(ctypes.byref(chandle))"
   ]
  },
  {
   "cell_type": "markdown",
   "metadata": {},
   "source": [
    "## Channel parameters"
   ]
  },
  {
   "cell_type": "code",
   "execution_count": null,
   "metadata": {},
   "outputs": [],
   "source": [
    "print( ps.PS4000_RANGE )\n",
    "channel_range = ps.PS4000_RANGE['PS4000_5V']\n",
    "\n",
    "for ch in 'AB':\n",
    "    assert 0 == ps.ps4000SetChannel(chandle,\n",
    "        ps.PS4000_CHANNEL[f'PS4000_CHANNEL_{ch}'],\n",
    "        1, # enabled\n",
    "        1, #DC coupling\n",
    "        channel_range)"
   ]
  },
  {
   "cell_type": "markdown",
   "metadata": {},
   "source": [
    "## Number of samples to acquire"
   ]
  },
  {
   "cell_type": "code",
   "execution_count": null,
   "metadata": {},
   "outputs": [],
   "source": [
    "# Size of capture\n",
    "sizeOfOneBuffer = int(np.round(1e6))\n",
    "numBuffersToCapture = 30\n",
    "\n",
    "totalSamples = sizeOfOneBuffer * numBuffersToCapture\n",
    "\n",
    "# Create buffers ready for assigning pointers for data collection\n",
    "bufferAMax = np.zeros(shape=sizeOfOneBuffer, dtype=np.int16)\n",
    "bufferBMax = np.zeros(shape=sizeOfOneBuffer, dtype=np.int16)\n",
    "\n",
    "memory_segment = 0\n",
    "\n",
    "# Set data buffer location for data collection\n",
    "# handle = chandle\n",
    "# source = PS4000_CHANNEL_A  or B\n",
    "# pointer to buffer max = ctypes.byref(bufferAMax)\n",
    "# pointer to buffer min = ctypes.byref(bufferAMin)\n",
    "# buffer length = maxSamples\n",
    "# segment index = 0 ???\n",
    "# ratio mode = PS4000_RATIO_MODE_NONE = 0\n",
    "assert 0 == ps.ps4000SetDataBuffers(chandle,\n",
    "    ps.PS4000_CHANNEL['PS4000_CHANNEL_A'],\n",
    "    bufferAMax.ctypes.data_as(ctypes.POINTER(ctypes.c_int16)),\n",
    "    None,\n",
    "    sizeOfOneBuffer)\n",
    "\n",
    "assert 0 == ps.ps4000SetDataBuffers(chandle,\n",
    "    ps.PS4000_CHANNEL['PS4000_CHANNEL_B'],\n",
    "    bufferBMax.ctypes.data_as(ctypes.POINTER(ctypes.c_int16)),\n",
    "    None,\n",
    "    sizeOfOneBuffer)"
   ]
  },
  {
   "cell_type": "markdown",
   "metadata": {},
   "source": [
    "## Setup Streaming Mode"
   ]
  },
  {
   "cell_type": "code",
   "execution_count": null,
   "metadata": {},
   "outputs": [],
   "source": [
    "# Begin streaming mode:\n",
    "sampleInterval = ctypes.c_int32(150)\n",
    "print(ps.PS4000_TIME_UNITS.keys())\n",
    "sampleUnits = ps.PS4000_TIME_UNITS['PS4000_NS']\n",
    "actualSampleInterval = sampleInterval.value\n",
    "print(f\"Capturing {totalSamples} samples at sample interval {actualSampleInterval} ns for a total duration of {actualSampleInterval*totalSamples/1e9} s\")\n",
    "\n",
    "# We are not triggering:\n",
    "maxPreTriggerSamples = 0\n",
    "autoStopOn = 1\n",
    "\n",
    "# No downsampling:\n",
    "downsampleRatio = 1\n",
    "\n",
    "assert 0 == ps.ps4000RunStreaming(chandle,\n",
    "    ctypes.byref(sampleInterval),\n",
    "    sampleUnits,\n",
    "    maxPreTriggerSamples,\n",
    "    totalSamples,\n",
    "    autoStopOn,\n",
    "    downsampleRatio,\n",
    "    sizeOfOneBuffer);\n",
    "\n",
    "\n",
    "# We need a big buffer, not registered with the driver, to keep our complete capture in.\n",
    "whole_acquire_A = np.zeros(shape=totalSamples, dtype=np.int16)\n",
    "whole_acquire_B = np.zeros(shape=totalSamples, dtype=np.int16)"
   ]
  },
  {
   "cell_type": "markdown",
   "metadata": {},
   "source": [
    "## Begin Streaming"
   ]
  },
  {
   "cell_type": "code",
   "execution_count": null,
   "metadata": {},
   "outputs": [],
   "source": [
    "nextSample = 0\n",
    "autoStopOuter = False\n",
    "wasCalledBack = False\n",
    "\n",
    "\n",
    "rng = np.arange(bufferAMax.size)\n",
    "def streaming_callback(handle, noOfSamples, buff_start_idx, overflow, triggerAt, triggered, autoStop, param):\n",
    "    global nextSample, autoStopOuter, wasCalledBack\n",
    "    wasCalledBack = True\n",
    "    idx = np.arange(buff_start_idx, buff_start_idx+noOfSamples) % bufferAMax.size\n",
    "    whole_acquire_A[nextSample:nextSample + noOfSamples] = bufferAMax[idx]\n",
    "    whole_acquire_B[nextSample:nextSample + noOfSamples] = bufferBMax[idx]\n",
    "    nextSample += noOfSamples\n",
    "    if autoStop:\n",
    "        autoStopOuter = True\n",
    "\n",
    "\n",
    "# Convert the python function into a C function pointer.\n",
    "cFuncPtr = ps.StreamingReadyType(streaming_callback)\n",
    "\n",
    "# Fetch data from the driver in a loop, copying it out of the registered buffers and into our complete one.\n",
    "while nextSample < totalSamples and not autoStopOuter:\n",
    "    ps.ps4000GetStreamingLatestValues(chandle, cFuncPtr, None)\n",
    "    # if wasCalledBack:\n",
    "    #     time.sleep(0.001)\n",
    "\n",
    "print(\"Done grabbing values.\")\n",
    "# Stop the scope\n",
    "ps.ps4000Stop(chandle)\n",
    "\n",
    "# Disconnect the scope\n",
    "ps.ps4000CloseUnit(chandle)"
   ]
  },
  {
   "cell_type": "markdown",
   "metadata": {},
   "source": [
    "### Plot"
   ]
  },
  {
   "cell_type": "code",
   "execution_count": null,
   "metadata": {},
   "outputs": [],
   "source": [
    "# Find maximum ADC count value\n",
    "# pointer to value = ctypes.byref(maxADC)\n",
    "maxADC = ctypes.c_int16(32767)\n",
    "\n",
    "# Convert ADC counts data to mV\n",
    "chA_mV = adc2mV(whole_acquire_A, channel_range, maxADC) #TPO edited this function, was doing the ADC conversion iteratively and returning a list\n",
    "chB_mV = adc2mV(whole_acquire_B, channel_range, maxADC)\n",
    "\n",
    "# Create time data\n",
    "times = np.linspace(0, totalSamples * actualSampleInterval, totalSamples)/1e9\n",
    "\n",
    "# Plot data from channel A and B\n",
    "plt.figure()\n",
    "plt.plot(times, chA_mV)\n",
    "plt.plot(times, chB_mV)\n",
    "plt.xlabel('Time (s)')\n",
    "plt.ylabel('Voltage (mV)');"
   ]
  },
  {
   "cell_type": "code",
   "execution_count": null,
   "metadata": {},
   "outputs": [],
   "source": [
    "print( 'dt', (times[1]-times[0]), 's' )\n",
    "print( 'fs', 1/(times[1]-times[0])/1e6, 'MHz' );"
   ]
  },
  {
   "cell_type": "code",
   "execution_count": null,
   "metadata": {},
   "outputs": [],
   "source": [
    "import h5py\n",
    "import numpy as np\n",
    "\n",
    "sys.exit()\n",
    "with h5py.File('C:\\\\Users\\\\Regan Lab/Desktop\\\\\\\\\\\\test.hdf5','w') as f:\n",
    "    grp = f.create_group('test')\n",
    "    dset = grp.create_dataset('test', (100,))\n",
    "    dset[:] = np.linspace(0,1,100)\n"
   ]
  }
 ],
 "metadata": {
  "kernelspec": {
   "display_name": "picoscope",
   "language": "python",
   "name": "python3"
  },
  "language_info": {
   "codemirror_mode": {
    "name": "ipython",
    "version": 3
   },
   "file_extension": ".py",
   "mimetype": "text/x-python",
   "name": "python",
   "nbconvert_exporter": "python",
   "pygments_lexer": "ipython3",
   "version": "3.12.5"
  }
 },
 "nbformat": 4,
 "nbformat_minor": 2
}
